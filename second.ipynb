{
 "cells": [
  {
   "cell_type": "markdown",
   "metadata": {},
   "source": [
    "# Phase B: Build 5-fold advCheX_kf dataset"
   ]
  },
  {
   "cell_type": "code",
   "execution_count": null,
   "metadata": {},
   "outputs": [],
   "source": [
    "import pandas as pd\n",
    "import shutil, os\n",
    "from pathlib import Path\n",
    "from sklearn.model_selection import StratifiedKFold\n"
   ]
  },
  {
   "cell_type": "code",
   "execution_count": null,
   "metadata": {},
   "outputs": [],
   "source": [
    "inter_dir = Path('advCheX_Inter')\n",
    "out_dir = Path('advCheX_kf')\n",
    "out_dir.mkdir(exist_ok=True)\n",
    "train_df = pd.read_csv(inter_dir/'train.csv')\n",
    "test_df = pd.read_csv(inter_dir/'test.csv')\n",
    "# copy images once\n",
    "for split in ['train','test']:\n",
    "    src = inter_dir/split\n",
    "    dst = out_dir/split\n",
    "    if not dst.exists():\n",
    "        shutil.copytree(src, dst)\n",
    "test_df.to_csv(out_dir/'test.csv', index=False)\n"
   ]
  },
  {
   "cell_type": "code",
   "execution_count": null,
   "metadata": {},
   "outputs": [],
   "source": [
    "# 5-fold stratified split on training set\n",
    "skf = StratifiedKFold(n_splits=5, shuffle=True, random_state=42)\n",
    "for fold, (tr_idx, val_idx) in enumerate(skf.split(train_df, train_df['CHD'])):\n",
    "    fold_dir = out_dir/f'fold{fold}'\n",
    "    fold_dir.mkdir(parents=True, exist_ok=True)\n",
    "    tr_df = train_df.iloc[tr_idx].reset_index(drop=True)\n",
    "    val_df = train_df.iloc[val_idx].reset_index(drop=True)\n",
    "    tr_df.to_csv(fold_dir/'train.csv', index=False)\n",
    "    val_df.to_csv(fold_dir/'valid.csv', index=False)\n",
    "    counts = tr_df['CHD'].value_counts()\n",
    "    w_chd = 1.0 / counts[1]\n",
    "    w_non = 1.0 / counts[0]\n",
    "    weights = []\n",
    "    for _, row in tr_df.iterrows():\n",
    "        w = w_chd if row.CHD==1 else w_non\n",
    "        weights.append({'Path': row['Path'], 'sample_weight': w})\n",
    "    pd.DataFrame(weights).to_csv(fold_dir/'train_weights.csv', index=False)\n"
   ]
  }
 ],
 "metadata": {
  "kernelspec": {
   "display_name": "Python 3",
   "language": "python",
   "name": "python3"
  },
  "language_info": {
   "name": "python",
   "pygments_lexer": "ipython3"
  }
 },
 "nbformat": 4,
 "nbformat_minor": 5
}

